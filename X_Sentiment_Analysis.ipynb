{
 "cells": [
  {
   "cell_type": "markdown",
   "id": "a79ff588-d884-4772-ad11-62b2065cc715",
   "metadata": {},
   "source": [
    "# **Task : 02**\n",
    "* **Twitter Sentiment Analysis Dataset**"
   ]
  },
  {
   "cell_type": "markdown",
   "id": "de298993-783f-4882-abe0-fdbc92116f8d",
   "metadata": {},
   "source": [
    "### **Step 1: Install Required Libraries**"
   ]
  },
  {
   "cell_type": "code",
   "execution_count": 14,
   "id": "18fd45a7-3e16-4087-8f9f-4ffd1d811a50",
   "metadata": {},
   "outputs": [
    {
     "name": "stdout",
     "output_type": "stream",
     "text": [
      "Requirement already satisfied: pandas in c:\\users\\dhananjay\\anaconda3\\lib\\site-packages (2.1.4)\n",
      "Requirement already satisfied: textblob in c:\\users\\dhananjay\\anaconda3\\lib\\site-packages (0.18.0.post0)\n",
      "Requirement already satisfied: numpy<2,>=1.23.2 in c:\\users\\dhananjay\\anaconda3\\lib\\site-packages (from pandas) (1.26.4)\n",
      "Requirement already satisfied: python-dateutil>=2.8.2 in c:\\users\\dhananjay\\appdata\\roaming\\python\\python311\\site-packages (from pandas) (2.8.2)\n",
      "Requirement already satisfied: pytz>=2020.1 in c:\\users\\dhananjay\\anaconda3\\lib\\site-packages (from pandas) (2023.3.post1)\n",
      "Requirement already satisfied: tzdata>=2022.1 in c:\\users\\dhananjay\\anaconda3\\lib\\site-packages (from pandas) (2023.3)\n",
      "Requirement already satisfied: nltk>=3.8 in c:\\users\\dhananjay\\anaconda3\\lib\\site-packages (from textblob) (3.8.1)\n",
      "Requirement already satisfied: click in c:\\users\\dhananjay\\anaconda3\\lib\\site-packages (from nltk>=3.8->textblob) (8.1.7)\n",
      "Requirement already satisfied: joblib in c:\\users\\dhananjay\\anaconda3\\lib\\site-packages (from nltk>=3.8->textblob) (1.2.0)\n",
      "Requirement already satisfied: regex>=2021.8.3 in c:\\users\\dhananjay\\anaconda3\\lib\\site-packages (from nltk>=3.8->textblob) (2023.10.3)\n",
      "Requirement already satisfied: tqdm in c:\\users\\dhananjay\\anaconda3\\lib\\site-packages (from nltk>=3.8->textblob) (4.65.0)\n",
      "Requirement already satisfied: six>=1.5 in c:\\users\\dhananjay\\appdata\\roaming\\python\\python311\\site-packages (from python-dateutil>=2.8.2->pandas) (1.16.0)\n",
      "Requirement already satisfied: colorama in c:\\users\\dhananjay\\appdata\\roaming\\python\\python311\\site-packages (from click->nltk>=3.8->textblob) (0.4.6)\n"
     ]
    }
   ],
   "source": [
    "!pip install pandas textblob"
   ]
  },
  {
   "cell_type": "markdown",
   "id": "476c06d5-f7fe-4000-9c4f-b6ebe9c88d6d",
   "metadata": {},
   "source": [
    "### **Step 2: Load and Combine the Datasets**"
   ]
  },
  {
   "cell_type": "code",
   "execution_count": 15,
   "id": "dce3ee9e-5cec-4834-bae1-0ebcf328ea19",
   "metadata": {},
   "outputs": [],
   "source": [
    "import pandas as pd\n",
    "\n",
    "# Load the datasets\n",
    "training_data = pd.read_csv('twitter_training.csv')\n",
    "validation_data = pd.read_csv('twitter_validation.csv')\n",
    "\n",
    "# Rename columns for clarity\n",
    "training_data.columns = ['ID', 'Platform', 'Sentiment', 'Text']\n",
    "validation_data.columns = ['ID', 'Platform', 'Sentiment', 'Text']\n",
    "\n",
    "# Combine both datasets into one DataFrame\n",
    "combined_data = pd.concat([training_data, validation_data], ignore_index=True)\n"
   ]
  },
  {
   "cell_type": "markdown",
   "id": "f52dd3e0-01cf-4eb2-83d6-b6abd53ac729",
   "metadata": {},
   "source": [
    "### **Step 3: Define the Sentiment Analysis Function Using TextBlob**"
   ]
  },
  {
   "cell_type": "code",
   "execution_count": 16,
   "id": "e93022fa-7d0e-4d60-b9e4-60c5e0ec2c54",
   "metadata": {},
   "outputs": [],
   "source": [
    "from textblob import TextBlob\n",
    "\n",
    "# Define the function for sentiment analysis\n",
    "def textblob_sentiment(text):\n",
    "    # Calculate polarity using TextBlob\n",
    "    polarity = TextBlob(text).sentiment.polarity\n",
    "    if polarity > 0:\n",
    "        return 'Positive'\n",
    "    elif polarity < 0:\n",
    "        return 'Negative'\n",
    "    else:\n",
    "        return 'Neutral'\n"
   ]
  },
  {
   "cell_type": "markdown",
   "id": "c8b43a40-dbd9-45e7-b04a-1eeecda1cec1",
   "metadata": {},
   "source": [
    "### **Step 4: Apply Sentiment Analysis to Each Post**"
   ]
  },
  {
   "cell_type": "code",
   "execution_count": 20,
   "id": "5b109731-3f4b-4526-bb73-c78c3bac3a9c",
   "metadata": {},
   "outputs": [],
   "source": [
    "# Apply TextBlob analysis to each post in the 'Text' column\n",
    "\n",
    "# Replace NaN values in the 'Text' column with an empty string\n",
    "combined_data['Text'] = combined_data['Text'].fillna('')\n",
    "\n",
    "# Apply TextBlob analysis to each post in the 'Text' column\n",
    "combined_data['TextBlob_Sentiment'] = combined_data['Text'].apply(textblob_sentiment)\n"
   ]
  },
  {
   "cell_type": "markdown",
   "id": "15b0713a-bc7e-4b2e-a4eb-88526ebc27b1",
   "metadata": {},
   "source": [
    "### **Step 5: Count and Display Sentiment Analysis Results**"
   ]
  },
  {
   "cell_type": "code",
   "execution_count": 21,
   "id": "e7ebd139-b07b-40d4-acf6-451ee77c4f26",
   "metadata": {},
   "outputs": [
    {
     "name": "stdout",
     "output_type": "stream",
     "text": [
      "Sentiment Counts based on TextBlob Analysis:\n",
      "TextBlob_Sentiment\n",
      "Positive    34562\n",
      "Negative    21671\n",
      "Neutral     19447\n",
      "Name: count, dtype: int64\n"
     ]
    }
   ],
   "source": [
    "# Count the occurrences of each sentiment\n",
    "sentiment_counts = combined_data['TextBlob_Sentiment'].value_counts()\n",
    "\n",
    "# Display the sentiment counts\n",
    "print(\"Sentiment Counts based on TextBlob Analysis:\")\n",
    "print(sentiment_counts)\n"
   ]
  },
  {
   "cell_type": "markdown",
   "id": "e000cf92-e952-4881-a4cb-a030506f1aaa",
   "metadata": {},
   "source": [
    "### **Step 6 : Save the Results to a CSV File**"
   ]
  },
  {
   "cell_type": "code",
   "execution_count": 22,
   "id": "f4d54a16-cc05-4189-89d6-3b1a2541539e",
   "metadata": {},
   "outputs": [],
   "source": [
    "# Save the DataFrame with sentiment analysis to a CSV file\n",
    "combined_data.to_csv('sentiment_analysis_results.csv', index=False)"
   ]
  }
 ],
 "metadata": {
  "kernelspec": {
   "display_name": "Python 3 (ipykernel)",
   "language": "python",
   "name": "python3"
  },
  "language_info": {
   "codemirror_mode": {
    "name": "ipython",
    "version": 3
   },
   "file_extension": ".py",
   "mimetype": "text/x-python",
   "name": "python",
   "nbconvert_exporter": "python",
   "pygments_lexer": "ipython3",
   "version": "3.11.7"
  }
 },
 "nbformat": 4,
 "nbformat_minor": 5
}
