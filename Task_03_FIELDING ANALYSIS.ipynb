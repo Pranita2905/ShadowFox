{
 "cells": [
  {
   "cell_type": "markdown",
   "id": "f00408fe-3f46-4309-a00f-5ddc52e6e439",
   "metadata": {},
   "source": [
    "# **Task 03 :**\n",
    "* **CRICKET FIELDING ANALYSIS DATA COLLECTION**"
   ]
  },
  {
   "cell_type": "code",
   "execution_count": 5,
   "id": "82f7ae2f-25d5-454a-b2af-91baf50a102a",
   "metadata": {},
   "outputs": [
    {
     "name": "stdout",
     "output_type": "stream",
     "text": [
      "Deliveries Data Preview:\n",
      "       id  inning  over  ball      batsman  non_striker     bowler  \\\n",
      "0  335982       1     6     5   RT Ponting  BB McCullum  AA Noffke   \n",
      "1  335982       1     6     6  BB McCullum   RT Ponting  AA Noffke   \n",
      "2  335982       1     7     1  BB McCullum   RT Ponting     Z Khan   \n",
      "3  335982       1     7     2  BB McCullum   RT Ponting     Z Khan   \n",
      "4  335982       1     7     3   RT Ponting  BB McCullum     Z Khan   \n",
      "\n",
      "   batsman_runs  extra_runs  total_runs  non_boundary  is_wicket  \\\n",
      "0             1           0           1             0          0   \n",
      "1             1           0           1             0          0   \n",
      "2             0           0           0             0          0   \n",
      "3             1           0           1             0          0   \n",
      "4             1           0           1             0          0   \n",
      "\n",
      "  dismissal_kind player_dismissed fielder extras_type           batting_team  \\\n",
      "0            NaN              NaN     NaN         NaN  Kolkata Knight Riders   \n",
      "1            NaN              NaN     NaN         NaN  Kolkata Knight Riders   \n",
      "2            NaN              NaN     NaN         NaN  Kolkata Knight Riders   \n",
      "3            NaN              NaN     NaN         NaN  Kolkata Knight Riders   \n",
      "4            NaN              NaN     NaN         NaN  Kolkata Knight Riders   \n",
      "\n",
      "                  bowling_team  \n",
      "0  Royal Challengers Bangalore  \n",
      "1  Royal Challengers Bangalore  \n",
      "2  Royal Challengers Bangalore  \n",
      "3  Royal Challengers Bangalore  \n",
      "4  Royal Challengers Bangalore  \n",
      "\n",
      "Matches Data Preview:\n",
      "       id        city        date player_of_match  \\\n",
      "0  335982   Bangalore  2008-04-18     BB McCullum   \n",
      "1  335983  Chandigarh  2008-04-19      MEK Hussey   \n",
      "2  335984       Delhi  2008-04-19     MF Maharoof   \n",
      "3  335985      Mumbai  2008-04-20      MV Boucher   \n",
      "4  335986     Kolkata  2008-04-20       DJ Hussey   \n",
      "\n",
      "                                        venue  neutral_venue  \\\n",
      "0                       M Chinnaswamy Stadium              0   \n",
      "1  Punjab Cricket Association Stadium, Mohali              0   \n",
      "2                            Feroz Shah Kotla              0   \n",
      "3                            Wankhede Stadium              0   \n",
      "4                                Eden Gardens              0   \n",
      "\n",
      "                         team1                        team2  \\\n",
      "0  Royal Challengers Bangalore        Kolkata Knight Riders   \n",
      "1              Kings XI Punjab          Chennai Super Kings   \n",
      "2             Delhi Daredevils             Rajasthan Royals   \n",
      "3               Mumbai Indians  Royal Challengers Bangalore   \n",
      "4        Kolkata Knight Riders              Deccan Chargers   \n",
      "\n",
      "                   toss_winner toss_decision                       winner  \\\n",
      "0  Royal Challengers Bangalore         field        Kolkata Knight Riders   \n",
      "1          Chennai Super Kings           bat          Chennai Super Kings   \n",
      "2             Rajasthan Royals           bat             Delhi Daredevils   \n",
      "3               Mumbai Indians           bat  Royal Challengers Bangalore   \n",
      "4              Deccan Chargers           bat        Kolkata Knight Riders   \n",
      "\n",
      "    result  result_margin eliminator method    umpire1         umpire2  \n",
      "0     runs          140.0          N    NaN  Asad Rauf     RE Koertzen  \n",
      "1     runs           33.0          N    NaN  MR Benson      SL Shastri  \n",
      "2  wickets            9.0          N    NaN  Aleem Dar  GA Pratapkumar  \n",
      "3  wickets            5.0          N    NaN   SJ Davis       DJ Harper  \n",
      "4  wickets            5.0          N    NaN  BF Bowden     K Hariharan  \n"
     ]
    }
   ],
   "source": [
    "import pandas as pd\n",
    "\n",
    "# Read CSV files\n",
    "deliveries = pd.read_csv(\"deliveries.csv\")\n",
    "matches = pd.read_csv(\"matches.csv\")\n",
    "\n",
    "# Display the first few rows of each file to understand the structure\n",
    "print(\"Deliveries Data Preview:\")\n",
    "print(deliveries.head())\n",
    "\n",
    "print(\"\\nMatches Data Preview:\")\n",
    "print(matches.head())\n"
   ]
  },
  {
   "cell_type": "markdown",
   "id": "a7339176-9253-4c22-8f7c-362ed8a5728f",
   "metadata": {},
   "source": [
    "### **Step 2: Filter Data for Fielding Actions**"
   ]
  },
  {
   "cell_type": "code",
   "execution_count": 6,
   "id": "d462de0c-26c7-4c82-b807-1eccdfdb6621",
   "metadata": {},
   "outputs": [
    {
     "name": "stdout",
     "output_type": "stream",
     "text": [
      "Fielding data filtered successfully.\n"
     ]
    }
   ],
   "source": [
    "# Filter fielding data: rows where fielding actions were recorded (fielder column is not null)\n",
    "fielding_data = deliveries.dropna(subset=['fielder'])\n",
    "\n",
    "# Check if essential columns are present\n",
    "fielding_columns = ['fielder', 'dismissal_kind', 'batsman_runs']\n",
    "if not all(col in deliveries.columns for col in fielding_columns):\n",
    "    print(\"Essential fielding columns not found in the dataset. Please check the file structure.\")\n",
    "else:\n",
    "    print(\"Fielding data filtered successfully.\")\n"
   ]
  },
  {
   "cell_type": "markdown",
   "id": "ac1479d8-79db-4217-ad96-0bce694787ca",
   "metadata": {},
   "source": [
    "### **Step 3: Calculate Total Fielding Actions per Player**"
   ]
  },
  {
   "cell_type": "code",
   "execution_count": 7,
   "id": "9503b46a-cb15-4f37-aa86-1b3ec27f1514",
   "metadata": {},
   "outputs": [
    {
     "name": "stdout",
     "output_type": "stream",
     "text": [
      "\n",
      "Total Fielding Actions Per Player:\n",
      "                             Player  Total_Fielding_Actions\n",
      "0                          MS Dhoni                     164\n",
      "1                        KD Karthik                     156\n",
      "2                        RV Uthappa                     123\n",
      "3                    AB de Villiers                     117\n",
      "4                          SK Raina                     105\n",
      "..                              ...                     ...\n",
      "874              RA Jadeja,BJ Hodge                       1\n",
      "875        DT Christian,Anand Rajan                       1\n",
      "876               Y Nagar,IK Pathan                       1\n",
      "877  AB de Villiers,KB Arun Karthik                       1\n",
      "878                         P Dubey                       1\n",
      "\n",
      "[879 rows x 2 columns]\n"
     ]
    }
   ],
   "source": [
    "# Count total fielding actions per player\n",
    "total_actions = fielding_data['fielder'].value_counts().reset_index()\n",
    "total_actions.columns = ['Player', 'Total_Fielding_Actions']\n",
    "print(\"\\nTotal Fielding Actions Per Player:\")\n",
    "print(total_actions)\n"
   ]
  },
  {
   "cell_type": "markdown",
   "id": "9674b4fd-3aa3-4f4b-a0b0-3222a7068dbc",
   "metadata": {},
   "source": [
    "### **Step 4: Categorize Specific Fielding Actions**"
   ]
  },
  {
   "cell_type": "code",
   "execution_count": 9,
   "id": "2580831f-43c6-4c3f-ae62-a8163a13567e",
   "metadata": {},
   "outputs": [
    {
     "name": "stdout",
     "output_type": "stream",
     "text": [
      "\n",
      "Specific Fielding Actions (Catches, Stops, etc.) Per Player:\n",
      "dismissal_kind            caught  run out  stumped\n",
      "fielder                                           \n",
      "A Ashish Reddy                 8        1        0\n",
      "A Ashish Reddy,J Theron        0        1        0\n",
      "A Chandila                     2        0        0\n",
      "A Chopra                       2        0        0\n",
      "A Chopra,BB McCullum           0        1        0\n",
      "...                          ...      ...      ...\n",
      "Yuvraj Singh,PP Chawla         0        1        0\n",
      "Yuvraj Singh,RV Uthappa        0        1        0\n",
      "Z Khan                        20        2        0\n",
      "Z Khan,KK Nair,Q de Kock       0        1        0\n",
      "Z Khan,Q de Kock               0        1        0\n",
      "\n",
      "[879 rows x 3 columns]\n"
     ]
    }
   ],
   "source": [
    "# Count each type of fielding action\n",
    "action_counts = fielding_data.groupby(['fielder', 'dismissal_kind']).size().unstack(fill_value=0)\n",
    "print(\"\\nSpecific Fielding Actions (Catches, Stops, etc.) Per Player:\")\n",
    "print(action_counts)\n"
   ]
  },
  {
   "cell_type": "markdown",
   "id": "af2c73c6-f6b9-4ef9-8d71-7e89a679229a",
   "metadata": {},
   "source": [
    "### **Step 5: Calculate Runs Saved by Each Player**"
   ]
  },
  {
   "cell_type": "code",
   "execution_count": 11,
   "id": "6c410e15-4165-4c08-b8f6-3108f7b0d193",
   "metadata": {},
   "outputs": [
    {
     "name": "stdout",
     "output_type": "stream",
     "text": [
      "\n",
      "Total Runs Saved Per Player:\n",
      "                       Player  Total_Runs_Saved\n",
      "0              A Ashish Reddy                 9\n",
      "1     A Ashish Reddy,J Theron                 1\n",
      "2                  A Chandila                 2\n",
      "3                    A Chopra                 2\n",
      "4        A Chopra,BB McCullum                 1\n",
      "..                        ...               ...\n",
      "874    Yuvraj Singh,PP Chawla                 1\n",
      "875   Yuvraj Singh,RV Uthappa                 1\n",
      "876                    Z Khan                22\n",
      "877  Z Khan,KK Nair,Q de Kock                 0\n",
      "878          Z Khan,Q de Kock                 1\n",
      "\n",
      "[879 rows x 2 columns]\n"
     ]
    },
    {
     "name": "stderr",
     "output_type": "stream",
     "text": [
      "C:\\Users\\Dhananjay\\AppData\\Local\\Temp\\ipykernel_15948\\3097947995.py:2: SettingWithCopyWarning: \n",
      "A value is trying to be set on a copy of a slice from a DataFrame.\n",
      "Try using .loc[row_indexer,col_indexer] = value instead\n",
      "\n",
      "See the caveats in the documentation: https://pandas.pydata.org/pandas-docs/stable/user_guide/indexing.html#returning-a-view-versus-a-copy\n",
      "  fielding_data['runs_saved'] = fielding_data['batsman_runs'].apply(lambda x: 1 if x == 0 else 0)\n"
     ]
    }
   ],
   "source": [
    "# Calculate runs saved (assuming batsman_runs == 0 is a saved run)\n",
    "fielding_data['runs_saved'] = fielding_data['batsman_runs'].apply(lambda x: 1 if x == 0 else 0)\n",
    "runs_saved = fielding_data.groupby('fielder')['runs_saved'].sum().reset_index()\n",
    "runs_saved.columns = ['Player', 'Total_Runs_Saved']\n",
    "print(\"\\nTotal Runs Saved Per Player:\")\n",
    "print(runs_saved)\n"
   ]
  },
  {
   "cell_type": "markdown",
   "id": "927be932-00ea-49a6-9d5d-c5a4f0fd1de0",
   "metadata": {},
   "source": [
    "### **Step 6: Identify Players with Most Missed Fields**"
   ]
  },
  {
   "cell_type": "code",
   "execution_count": 12,
   "id": "09f1f069-f186-4288-8078-0261e88ed5cc",
   "metadata": {},
   "outputs": [
    {
     "name": "stdout",
     "output_type": "stream",
     "text": [
      "\n",
      "Players with Most Missed Fields:\n",
      "Empty DataFrame\n",
      "Columns: [Player, Missed_Fields]\n",
      "Index: []\n"
     ]
    }
   ],
   "source": [
    "# Count missed fields if 'missed_field' category exists in dismissal_kind\n",
    "missed_fields = fielding_data[fielding_data['dismissal_kind'] == 'missed_field']['fielder'].value_counts().reset_index()\n",
    "missed_fields.columns = ['Player', 'Missed_Fields']\n",
    "print(\"\\nPlayers with Most Missed Fields:\")\n",
    "print(missed_fields.head())\n"
   ]
  },
  {
   "cell_type": "markdown",
   "id": "4841b1b2-1ff3-41c9-9d45-e18d3eccde1e",
   "metadata": {},
   "source": [
    "### **Step 7: Compile Comprehensive Fielding Performance Summary**"
   ]
  },
  {
   "cell_type": "code",
   "execution_count": 14,
   "id": "6e59214d-82e3-4fbf-be85-e9012cb68856",
   "metadata": {},
   "outputs": [
    {
     "name": "stdout",
     "output_type": "stream",
     "text": [
      "\n",
      "Comprehensive Fielding Performance Summary:\n",
      "                             Player  Total_Fielding_Actions  caught  run out  \\\n",
      "0                          MS Dhoni                     164     113       12   \n",
      "1                        KD Karthik                     156     118        8   \n",
      "2                        RV Uthappa                     123      87        4   \n",
      "3                    AB de Villiers                     117     103        6   \n",
      "4                          SK Raina                     105      99        6   \n",
      "..                              ...                     ...     ...      ...   \n",
      "874              RA Jadeja,BJ Hodge                       1       0        1   \n",
      "875        DT Christian,Anand Rajan                       1       0        1   \n",
      "876               Y Nagar,IK Pathan                       1       0        1   \n",
      "877  AB de Villiers,KB Arun Karthik                       1       0        1   \n",
      "878                         P Dubey                       1       1        0   \n",
      "\n",
      "     stumped  Total_Runs_Saved  Missed_Fields  \n",
      "0         39               164            0.0  \n",
      "1         30               156            0.0  \n",
      "2         32               123            0.0  \n",
      "3          8               117            0.0  \n",
      "4          0               105            0.0  \n",
      "..       ...               ...            ...  \n",
      "874        0                 1            0.0  \n",
      "875        0                 0            0.0  \n",
      "876        0                 0            0.0  \n",
      "877        0                 1            0.0  \n",
      "878        0                 1            0.0  \n",
      "\n",
      "[879 rows x 7 columns]\n"
     ]
    }
   ],
   "source": [
    "# Combine all summaries into one DataFrame\n",
    "summary = total_actions.merge(action_counts, left_on='Player', right_index=True, how='left')\n",
    "summary = summary.merge(runs_saved, on='Player', how='left')\n",
    "summary = summary.merge(missed_fields, on='Player', how='left')\n",
    "summary.fillna(0, inplace=True)  # Fill NaNs with 0 for players with no missed fields or runs saved\n",
    "\n",
    "print(\"\\nComprehensive Fielding Performance Summary:\")\n",
    "print(summary)\n"
   ]
  },
  {
   "cell_type": "markdown",
   "id": "08dc77a9-a304-4594-93b9-63e43c8a9da4",
   "metadata": {},
   "source": [
    "### **Step 8: Save the Summary to an Excel File**"
   ]
  },
  {
   "cell_type": "code",
   "execution_count": 16,
   "id": "91ac67ec-1df9-4143-b0c8-52143cd9695a",
   "metadata": {},
   "outputs": [
    {
     "name": "stdout",
     "output_type": "stream",
     "text": [
      "\n",
      "Comprehensive fielding performance summary saved to /mnt/data/Fielding_Performance_Summary.xlsx\n"
     ]
    }
   ],
   "source": [
    "# Save summary to an Excel file\n",
    "\n",
    "summary.to_excel(\"Fielding_Performance_Summary.xlsx\", index=False)\n",
    "print(f\"\\nComprehensive fielding performance summary saved to {output_path}\")"
   ]
  },
  {
   "cell_type": "markdown",
   "id": "18c2aa33-1584-4d0c-b6e6-789ec49c5f45",
   "metadata": {},
   "source": [
    "### **Summary :**\n",
    "**This breakdown structures the code into logical steps that tackle each task in sequence:**\n",
    "\n",
    "* Load and preview data.\n",
    "* Filter for fielding actions.\n",
    "* Calculate total fielding actions.\n",
    "* Categorize fielding action types.\n",
    "* Calculate runs saved.\n",
    "* Identify missed fields.\n",
    "* Compile a comprehensive summary.\n",
    "* Save the summary as an Excel file."
   ]
  }
 ],
 "metadata": {
  "kernelspec": {
   "display_name": "Python 3 (ipykernel)",
   "language": "python",
   "name": "python3"
  },
  "language_info": {
   "codemirror_mode": {
    "name": "ipython",
    "version": 3
   },
   "file_extension": ".py",
   "mimetype": "text/x-python",
   "name": "python",
   "nbconvert_exporter": "python",
   "pygments_lexer": "ipython3",
   "version": "3.11.7"
  }
 },
 "nbformat": 4,
 "nbformat_minor": 5
}
